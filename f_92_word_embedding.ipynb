{
  "nbformat": 4,
  "nbformat_minor": 0,
  "metadata": {
    "colab": {
      "name": "f-92-word-embedding.ipynb",
      "version": "0.3.2",
      "provenance": [],
      "collapsed_sections": [],
      "include_colab_link": true
    },
    "kernelspec": {
      "name": "python3",
      "display_name": "Python 3"
    },
    "accelerator": "GPU"
  },
  "cells": [
    {
      "cell_type": "markdown",
      "metadata": {
        "id": "view-in-github",
        "colab_type": "text"
      },
      "source": [
        "<a href=\"https://colab.research.google.com/github/StillWork/colab-1/blob/master/f_92_word_embedding.ipynb\" target=\"_parent\"><img src=\"https://colab.research.google.com/assets/colab-badge.svg\" alt=\"Open In Colab\"/></a>"
      ]
    },
    {
      "metadata": {
        "id": "0o9iFWCyf5R7",
        "colab_type": "text"
      },
      "cell_type": "markdown",
      "source": [
        "# 단어 임베딩\n",
        "## gensim을 사용\n"
      ]
    },
    {
      "metadata": {
        "id": "uA7Bou1BdQQs",
        "colab_type": "code",
        "colab": {
          "base_uri": "https://localhost:8080/",
          "height": 343
        },
        "outputId": "ceb7ec39-c31c-400b-88e3-17f9ee4f74d7"
      },
      "cell_type": "code",
      "source": [
        "!pip install gensim"
      ],
      "execution_count": 1,
      "outputs": [
        {
          "output_type": "stream",
          "text": [
            "Requirement already satisfied: gensim in /usr/local/lib/python3.6/dist-packages (3.6.0)\n",
            "Requirement already satisfied: scipy>=0.18.1 in /usr/local/lib/python3.6/dist-packages (from gensim) (1.1.0)\n",
            "Requirement already satisfied: six>=1.5.0 in /usr/local/lib/python3.6/dist-packages (from gensim) (1.11.0)\n",
            "Requirement already satisfied: smart-open>=1.2.1 in /usr/local/lib/python3.6/dist-packages (from gensim) (1.7.1)\n",
            "Requirement already satisfied: numpy>=1.11.3 in /usr/local/lib/python3.6/dist-packages (from gensim) (1.14.6)\n",
            "Requirement already satisfied: boto>=2.32 in /usr/local/lib/python3.6/dist-packages (from smart-open>=1.2.1->gensim) (2.49.0)\n",
            "Requirement already satisfied: bz2file in /usr/local/lib/python3.6/dist-packages (from smart-open>=1.2.1->gensim) (0.98)\n",
            "Requirement already satisfied: requests in /usr/local/lib/python3.6/dist-packages (from smart-open>=1.2.1->gensim) (2.18.4)\n",
            "Requirement already satisfied: boto3 in /usr/local/lib/python3.6/dist-packages (from smart-open>=1.2.1->gensim) (1.9.65)\n",
            "Requirement already satisfied: certifi>=2017.4.17 in /usr/local/lib/python3.6/dist-packages (from requests->smart-open>=1.2.1->gensim) (2018.11.29)\n",
            "Requirement already satisfied: urllib3<1.23,>=1.21.1 in /usr/local/lib/python3.6/dist-packages (from requests->smart-open>=1.2.1->gensim) (1.22)\n",
            "Requirement already satisfied: idna<2.7,>=2.5 in /usr/local/lib/python3.6/dist-packages (from requests->smart-open>=1.2.1->gensim) (2.6)\n",
            "Requirement already satisfied: chardet<3.1.0,>=3.0.2 in /usr/local/lib/python3.6/dist-packages (from requests->smart-open>=1.2.1->gensim) (3.0.4)\n",
            "Requirement already satisfied: jmespath<1.0.0,>=0.7.1 in /usr/local/lib/python3.6/dist-packages (from boto3->smart-open>=1.2.1->gensim) (0.9.3)\n",
            "Requirement already satisfied: botocore<1.13.0,>=1.12.65 in /usr/local/lib/python3.6/dist-packages (from boto3->smart-open>=1.2.1->gensim) (1.12.65)\n",
            "Requirement already satisfied: s3transfer<0.2.0,>=0.1.10 in /usr/local/lib/python3.6/dist-packages (from boto3->smart-open>=1.2.1->gensim) (0.1.13)\n",
            "Requirement already satisfied: python-dateutil<3.0.0,>=2.1; python_version >= \"2.7\" in /usr/local/lib/python3.6/dist-packages (from botocore<1.13.0,>=1.12.65->boto3->smart-open>=1.2.1->gensim) (2.5.3)\n",
            "Requirement already satisfied: docutils>=0.10 in /usr/local/lib/python3.6/dist-packages (from botocore<1.13.0,>=1.12.65->boto3->smart-open>=1.2.1->gensim) (0.14)\n"
          ],
          "name": "stdout"
        }
      ]
    },
    {
      "metadata": {
        "id": "nJVj1vOag0We",
        "colab_type": "text"
      },
      "cell_type": "markdown",
      "source": [
        "## brown이 다운로드 되지 않으면 아래 코드는 skip하고 text8을 사용한다."
      ]
    },
    {
      "metadata": {
        "id": "QnLMadoadQQy",
        "colab_type": "code",
        "colab": {
          "base_uri": "https://localhost:8080/",
          "height": 68
        },
        "outputId": "7c5bc63f-79d0-42e4-a924-8b59d04901f0"
      },
      "cell_type": "code",
      "source": [
        "import nltk\n",
        "from gensim.models import Word2Vec\n",
        "nltk.download('brown', download_dir='.')\n"
      ],
      "execution_count": 51,
      "outputs": [
        {
          "output_type": "stream",
          "text": [
            "[nltk_data] Downloading package brown to ....\n",
            "[nltk_data]   Package brown is already up-to-date!\n"
          ],
          "name": "stdout"
        },
        {
          "output_type": "execute_result",
          "data": {
            "text/plain": [
              "True"
            ]
          },
          "metadata": {
            "tags": []
          },
          "execution_count": 51
        }
      ]
    },
    {
      "metadata": {
        "id": "U6tJWWlinV5z",
        "colab_type": "code",
        "colab": {}
      },
      "cell_type": "code",
      "source": [
        "from gensim.models.word2vec import BrownCorpus, Word2Vec\n",
        "\n",
        "model = Word2Vec(BrownCorpus('./corpora/brown'), size=128, window=5, min_count=3, workers=4)\n",
        "\n",
        "# w2v_model = Word2Vec(brown, size=128, window=5, min_count=3, workers=4)"
      ],
      "execution_count": 0,
      "outputs": []
    },
    {
      "metadata": {
        "id": "d2EAJ2zMqLbn",
        "colab_type": "code",
        "colab": {
          "base_uri": "https://localhost:8080/",
          "height": 275
        },
        "outputId": "22524ceb-848c-4f35-cd1a-eedcd671d00b"
      },
      "cell_type": "code",
      "source": [
        "model.similar_by_word('house/nn')"
      ],
      "execution_count": 53,
      "outputs": [
        {
          "output_type": "stream",
          "text": [
            "/usr/local/lib/python3.6/dist-packages/ipykernel_launcher.py:1: DeprecationWarning: Call to deprecated `similar_by_word` (Method will be removed in 4.0.0, use self.wv.similar_by_word() instead).\n",
            "  \"\"\"Entry point for launching an IPython kernel.\n",
            "/usr/local/lib/python3.6/dist-packages/gensim/matutils.py:737: FutureWarning: Conversion of the second argument of issubdtype from `int` to `np.signedinteger` is deprecated. In future, it will be treated as `np.int64 == np.dtype(int).type`.\n",
            "  if np.issubdtype(vec.dtype, np.int):\n"
          ],
          "name": "stderr"
        },
        {
          "output_type": "execute_result",
          "data": {
            "text/plain": [
              "[('room/nn', 0.9694234728813171),\n",
              " ('door/nn', 0.9463914632797241),\n",
              " ('back/nn', 0.9461379647254944),\n",
              " ('car/nn', 0.9383804202079773),\n",
              " ('bed/nn', 0.9342300295829773),\n",
              " ('road/nn', 0.9248858094215393),\n",
              " ('over/rp', 0.9156070351600647),\n",
              " ('head/nn', 0.9150512218475342),\n",
              " ('face/nn', 0.9146108627319336),\n",
              " ('little/jj', 0.9119039177894592)]"
            ]
          },
          "metadata": {
            "tags": []
          },
          "execution_count": 53
        }
      ]
    },
    {
      "metadata": {
        "id": "kHteLHcTs7Yg",
        "colab_type": "code",
        "colab": {
          "base_uri": "https://localhost:8080/",
          "height": 459
        },
        "outputId": "47cfca88-0d0e-4c37-af7b-2635c3e7d9af"
      },
      "cell_type": "code",
      "source": [
        "model.wv.get_vector('man/nn')"
      ],
      "execution_count": 69,
      "outputs": [
        {
          "output_type": "execute_result",
          "data": {
            "text/plain": [
              "array([ 0.12027647,  0.25494206, -0.17456923,  0.7923212 , -1.3844653 ,\n",
              "       -0.92029715,  0.5499087 , -1.1743107 ,  0.19692798,  1.5645357 ,\n",
              "        0.5139107 , -0.99062103, -1.3785549 ,  0.5091107 , -0.04694067,\n",
              "        0.0118265 , -0.7371522 , -0.5881581 , -0.45435965,  1.452514  ,\n",
              "       -0.6086592 ,  0.2923085 ,  0.25905406, -1.2962831 , -0.51601994,\n",
              "       -0.21739967,  0.9997613 ,  0.43393725,  1.0832767 ,  0.48929888,\n",
              "       -0.89627343,  0.7557621 , -0.92185533, -0.08838838,  0.24089414,\n",
              "        0.2389623 ,  0.7744172 , -1.5942489 ,  0.8476627 , -0.91715294,\n",
              "        0.95345116, -0.57605785, -0.8096406 , -0.4457738 ,  1.1581087 ,\n",
              "        0.44772664,  0.4500636 ,  0.03530289, -0.26992443,  2.2275577 ,\n",
              "        0.3899644 , -0.09366502, -0.01696586, -0.8303606 , -0.1624667 ,\n",
              "        0.31278008, -0.38669845, -0.26844263, -0.6970031 ,  0.16408554,\n",
              "       -1.39204   ,  0.5970453 , -0.4877309 , -0.5828831 ,  0.02664488,\n",
              "        0.7467209 , -0.02038698, -0.3520421 , -0.24092388, -0.43148133,\n",
              "        0.46212846,  0.6193055 , -0.12849063, -1.1678951 , -0.488582  ,\n",
              "        0.99373597, -0.3176023 , -0.49055377,  0.26093668,  0.474248  ,\n",
              "       -0.10536058,  0.15426733,  1.1020588 , -0.78085953,  0.6190805 ,\n",
              "        0.89863193,  0.69104666, -1.2116516 , -0.82364875,  1.0185422 ,\n",
              "        0.6554775 , -0.3739864 ,  0.6695341 , -0.5415771 ,  0.47165066,\n",
              "        0.42297077,  0.8730598 , -0.20260152,  0.51200795, -0.27929452,\n",
              "        0.36455604,  0.9534027 , -0.17366236,  0.18517363, -0.30228397,\n",
              "       -0.9450117 , -0.69139445, -0.64272505,  0.6386613 , -0.7310995 ,\n",
              "        0.4384701 , -1.4367274 , -0.4206886 , -0.51348364, -0.78438956,\n",
              "        0.23507556, -0.38931713,  1.7699525 ,  0.08125927, -0.16431274,\n",
              "       -0.21052802, -0.01759116,  0.1965024 ,  0.09294424,  2.0073729 ,\n",
              "        0.7568806 , -0.23444913,  0.19879553], dtype=float32)"
            ]
          },
          "metadata": {
            "tags": []
          },
          "execution_count": 69
        }
      ]
    },
    {
      "metadata": {
        "scrolled": true,
        "id": "OvHQDkipdQRB",
        "colab_type": "code",
        "colab": {
          "base_uri": "https://localhost:8080/",
          "height": 88
        },
        "outputId": "f49582b2-a655-428e-8227-3db37c5bf440"
      },
      "cell_type": "code",
      "source": [
        "print(model.wv.most_similar('man/nn'))"
      ],
      "execution_count": 59,
      "outputs": [
        {
          "output_type": "stream",
          "text": [
            "[('woman/nn', 0.887836754322052), ('boy/nn', 0.8591850996017456), ('girl/nn', 0.8546619415283203), ('himself/pp', 0.8403429388999939), ('cowhand/nn', 0.820923388004303), ('buzz/nn', 0.8008248805999756), ('he/pp', 0.7869904041290283), ('she/pp', 0.7824572324752808), ('just/rb', 0.7776539325714111), ('child/nn', 0.7774184942245483)]\n"
          ],
          "name": "stdout"
        },
        {
          "output_type": "stream",
          "text": [
            "/usr/local/lib/python3.6/dist-packages/gensim/matutils.py:737: FutureWarning: Conversion of the second argument of issubdtype from `int` to `np.signedinteger` is deprecated. In future, it will be treated as `np.int64 == np.dtype(int).type`.\n",
            "  if np.issubdtype(vec.dtype, np.int):\n"
          ],
          "name": "stderr"
        }
      ]
    },
    {
      "metadata": {
        "id": "Yt-6pmaZdQRH",
        "colab_type": "code",
        "colab": {
          "base_uri": "https://localhost:8080/",
          "height": 88
        },
        "outputId": "d8aad91d-c1b9-477a-b3a4-89ff7f6539ec"
      },
      "cell_type": "code",
      "source": [
        "print(model.wv.most_similar(positive=['woman/nn', 'king/nn'], negative=['man/nn']))"
      ],
      "execution_count": 64,
      "outputs": [
        {
          "output_type": "stream",
          "text": [
            "[('hesitation/nn', 0.9561749696731567), ('irons/nn', 0.9542334079742432), ('watch/nn', 0.9490209817886353), ('quivering/vb', 0.9471980333328247), ('renewed/vb', 0.9452057480812073), ('flaming/vb', 0.9440028667449951), ('skirmish/nn', 0.9436561465263367), ('spending/vb', 0.9431703090667725), ('slugging/vb', 0.9426854252815247), ('tossed/vb', 0.941692590713501)]\n"
          ],
          "name": "stdout"
        },
        {
          "output_type": "stream",
          "text": [
            "/usr/local/lib/python3.6/dist-packages/gensim/matutils.py:737: FutureWarning: Conversion of the second argument of issubdtype from `int` to `np.signedinteger` is deprecated. In future, it will be treated as `np.int64 == np.dtype(int).type`.\n",
            "  if np.issubdtype(vec.dtype, np.int):\n"
          ],
          "name": "stderr"
        }
      ]
    },
    {
      "metadata": {
        "id": "yNlMNAnteUpr",
        "colab_type": "code",
        "colab": {
          "base_uri": "https://localhost:8080/",
          "height": 204
        },
        "outputId": "39878687-9f7f-4158-d99c-e88fc1011f1b"
      },
      "cell_type": "code",
      "source": [
        "!wget http://mattmahoney.net/dc/text8.zip"
      ],
      "execution_count": 3,
      "outputs": [
        {
          "output_type": "stream",
          "text": [
            "--2018-12-18 13:21:11--  http://mattmahoney.net/dc/text8.zip\n",
            "Resolving mattmahoney.net (mattmahoney.net)... 67.195.197.75\n",
            "Connecting to mattmahoney.net (mattmahoney.net)|67.195.197.75|:80... connected.\n",
            "HTTP request sent, awaiting response... 200 OK\n",
            "Length: 31344016 (30M) [application/zip]\n",
            "Saving to: ‘text8.zip’\n",
            "\n",
            "text8.zip           100%[===================>]  29.89M   333KB/s    in 94s     \n",
            "\n",
            "2018-12-18 13:22:46 (326 KB/s) - ‘text8.zip’ saved [31344016/31344016]\n",
            "\n"
          ],
          "name": "stdout"
        }
      ]
    },
    {
      "metadata": {
        "id": "F7ELZRVGe79M",
        "colab_type": "code",
        "colab": {
          "base_uri": "https://localhost:8080/",
          "height": 34
        },
        "outputId": "5d943df5-f0c2-4a24-98bb-b9a59d01c9e1"
      },
      "cell_type": "code",
      "source": [
        "!ls"
      ],
      "execution_count": 4,
      "outputs": [
        {
          "output_type": "stream",
          "text": [
            "sample_data  text8.zip\n"
          ],
          "name": "stdout"
        }
      ]
    },
    {
      "metadata": {
        "id": "7Xb6WEhvfJkM",
        "colab_type": "code",
        "colab": {}
      },
      "cell_type": "code",
      "source": [
        "import zipfile\n",
        "\n",
        "zip_ref = zipfile.ZipFile('text8.zip', 'r')\n",
        "zip_ref.extractall('.')\n",
        "zip_ref.close()"
      ],
      "execution_count": 0,
      "outputs": []
    },
    {
      "metadata": {
        "id": "Y2e-OU38fdcG",
        "colab_type": "code",
        "colab": {
          "base_uri": "https://localhost:8080/",
          "height": 34
        },
        "outputId": "e8ac3801-e9f2-414e-8831-9132a35bf15b"
      },
      "cell_type": "code",
      "source": [
        "!ls text8"
      ],
      "execution_count": 29,
      "outputs": [
        {
          "output_type": "stream",
          "text": [
            "text8\n"
          ],
          "name": "stdout"
        }
      ]
    },
    {
      "metadata": {
        "id": "q452hyLedQRM",
        "colab_type": "code",
        "colab": {}
      },
      "cell_type": "code",
      "source": [
        "from gensim.models.word2vec import Text8Corpus\n",
        " \n",
        "# Go here and download + unzip the Text8 Corpus: http://mattmahoney.net/dc/text8.zip\n",
        "# We take only words that appear more than 150 times for doing a visualization later\n",
        "w2v_model2 = Word2Vec(Text8Corpus('text8'), size=100, window=5, min_count=150, workers=4)\n",
        " "
      ],
      "execution_count": 0,
      "outputs": []
    },
    {
      "metadata": {
        "id": "ycjl_w8fdQRQ",
        "colab_type": "code",
        "colab": {
          "base_uri": "https://localhost:8080/",
          "height": 241
        },
        "outputId": "aafffedf-2ccf-483f-b0cc-031550680d36"
      },
      "cell_type": "code",
      "source": [
        "print(w2v_model2.wv.most_similar('paris'))\n",
        "# \"King\" - \"Man\" + \"Woman\" == \"Queen\"\n",
        "print(w2v_model2.most_similar(['woman', 'king'], ['man'], topn=3))\n",
        "# [('queen', 0.6777610778808594), ('throne', 0.6143913269042969), ('elizabeth', 0.593910813331604)]\n",
        " \n",
        "# \"Father\" - \"Boy\" + \"Girl\" == \"Mother\"\n",
        "print(w2v_model2.most_similar(['girl', 'father'], ['boy'], topn=3))\n",
        "# [('mother', 0.7972878813743591), ('wife', 0.7469687461853027), ('grandmother', 0.7419005632400513)]\n",
        " \n",
        "# \"Paris\" - \"France\" + \"Italy\" = \"Rome\"\n",
        "print(w2v_model2.most_similar(['paris', 'italy'], ['france'], topn=3))\n",
        "# [('venice', 0.7461134195327759), ('vienna', 0.7134193778038025), ('florence', 0.7019181251525879)]\n",
        " "
      ],
      "execution_count": 13,
      "outputs": [
        {
          "output_type": "stream",
          "text": [
            "[('venice', 0.7496007680892944), ('florence', 0.7157706022262573), ('vienna', 0.7035505771636963), ('naples', 0.7011144161224365), ('leipzig', 0.6976438760757446), ('milan', 0.6760355234146118), ('munich', 0.6730775833129883), ('amsterdam', 0.6302424073219299), ('brussels', 0.6241041421890259), ('della', 0.6188139915466309)]\n",
            "[('elizabeth', 0.6408079862594604), ('queen', 0.637080192565918), ('son', 0.6146337985992432)]\n",
            "[('mother', 0.7957967519760132), ('lover', 0.7146021127700806), ('wife', 0.7086944580078125)]\n",
            "[('venice', 0.7714554071426392), ('florence', 0.752228856086731), ('vienna', 0.7269465923309326)]\n"
          ],
          "name": "stdout"
        },
        {
          "output_type": "stream",
          "text": [
            "/usr/local/lib/python3.6/dist-packages/gensim/matutils.py:737: FutureWarning: Conversion of the second argument of issubdtype from `int` to `np.signedinteger` is deprecated. In future, it will be treated as `np.int64 == np.dtype(int).type`.\n",
            "  if np.issubdtype(vec.dtype, np.int):\n",
            "/usr/local/lib/python3.6/dist-packages/ipykernel_launcher.py:3: DeprecationWarning: Call to deprecated `most_similar` (Method will be removed in 4.0.0, use self.wv.most_similar() instead).\n",
            "  This is separate from the ipykernel package so we can avoid doing imports until\n",
            "/usr/local/lib/python3.6/dist-packages/ipykernel_launcher.py:7: DeprecationWarning: Call to deprecated `most_similar` (Method will be removed in 4.0.0, use self.wv.most_similar() instead).\n",
            "  import sys\n",
            "/usr/local/lib/python3.6/dist-packages/ipykernel_launcher.py:11: DeprecationWarning: Call to deprecated `most_similar` (Method will be removed in 4.0.0, use self.wv.most_similar() instead).\n",
            "  # This is added back by InteractiveShellApp.init_path()\n"
          ],
          "name": "stderr"
        }
      ]
    },
    {
      "metadata": {
        "id": "BISlVEu9dQRT",
        "colab_type": "code",
        "colab": {}
      },
      "cell_type": "code",
      "source": [
        ""
      ],
      "execution_count": 0,
      "outputs": []
    },
    {
      "metadata": {
        "id": "ckeRuKTPdQRV",
        "colab_type": "code",
        "colab": {}
      },
      "cell_type": "code",
      "source": [
        ""
      ],
      "execution_count": 0,
      "outputs": []
    },
    {
      "metadata": {
        "id": "ynykv7y7dQRX",
        "colab_type": "code",
        "colab": {}
      },
      "cell_type": "code",
      "source": [
        ""
      ],
      "execution_count": 0,
      "outputs": []
    }
  ]
}